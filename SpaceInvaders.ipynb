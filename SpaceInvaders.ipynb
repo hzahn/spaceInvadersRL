{
 "cells": [
  {
   "cell_type": "code",
   "execution_count": 5,
   "metadata": {
    "collapsed": true
   },
   "outputs": [],
   "source": [
    "import torch\n",
    "import numpy as np\n",
    "import gym\n",
    "import PIL\n",
    "from torch import nn\n",
    "from collections import namedtuple"
   ]
  },
  {
   "cell_type": "markdown",
   "metadata": {},
   "source": [
    "## find a propper resolution in space and time"
   ]
  },
  {
   "cell_type": "code",
   "execution_count": 7,
   "metadata": {},
   "outputs": [
    {
     "data": {
      "image/png": "[encoded data removed]",
      "text/plain": [
       "<matplotlib.figure.Figure at 0x1d47a957128>"
      ]
     },
     "metadata": {},
     "output_type": "display_data"
    }
   ],
   "source": [
    "import gym\n",
    "from IPython import display\n",
    "import matplotlib\n",
    "import matplotlib.pyplot as plt\n",
    "import time\n",
    "%matplotlib inline\n",
    "\n",
    "SPACE_RES = (80,80)\n",
    "TIME_RES = 3\n",
    "\n",
    "def resize(obs):\n",
    "    return np.array(PIL.Image.fromarray(obs).resize(SPACE_RES)) # , PIL.Image.BILINEAR)\n",
    "\n",
    "def sample_steps(action, env, sample_size):\n",
    "    samples = []\n",
    "    info = []\n",
    "    done = False\n",
    "    reward = 0\n",
    "    for i in range(sample_size):\n",
    " \n",
    "        (_, r, d, i) = env.step(action)\n",
    "        samples.append(env.render(mode='rgb_array'))\n",
    "        done = done or d\n",
    "        reward += r\n",
    "        info = i\n",
    "    \n",
    "    obs = np.mean(samples, axis=0).astype('uint8')\n",
    "#    obs = samples[0]\n",
    "    return obs, reward, info, done\n",
    "        \n",
    "\n",
    "env = gym.make('SpaceInvaders-v0')\n",
    "env.reset()\n",
    "obs = resize(env.render(mode='rgb_array'))\n",
    "img = plt.imshow(obs)\n",
    "done = False\n",
    "for i in range(200):\n",
    "    time.sleep(0.05*TIME_RES)\n",
    "    action = env.action_space.sample()\n",
    "    obs, r, _, done = sample_steps(action, env, TIME_RES)\n",
    "    obs = resize(obs)\n",
    "    img.set_data(obs)\n",
    "    display.display(plt.gcf())\n",
    "    display.clear_output(wait=True)\n"
   ]
  },
  {
   "cell_type": "markdown",
   "metadata": {},
   "source": [
    "## define torch value function  cnn"
   ]
  },
  {
   "cell_type": "code",
   "execution_count": 8,
   "metadata": {
    "collapsed": true
   },
   "outputs": [],
   "source": [
    "class ValueNet(nn.Module):\n",
    "    def __init__(self):\n",
    "        super(ValueNet, self).__init__()\n",
    "        self.layer1 = nn.Sequential(\n",
    "            nn.Conv2d(3, 32, kernel_size=3, stride=1, padding=2),\n",
    "            nn.ReLU(),\n",
    "            nn.MaxPool2d(kernel_size=2, stride=2))\n",
    "        self.layer2 = nn.Sequential(\n",
    "            nn.Conv2d(32, 64, kernel_size=5, stride=1, padding=2),\n",
    "            nn.ReLU(),\n",
    "            nn.MaxPool2d(kernel_size=2, stride=2))\n",
    "        self.drop_out = nn.Dropout()\n",
    "        self.fc1 = nn.Linear(20 * 20 * 64, 100)\n",
    "        self.fc2 = nn.Linear(100, 10)\n",
    "        \n",
    "    def forward(self, x):\n",
    "        out = self.layer1(x)\n",
    "        out = self.layer2(out)\n",
    "        out = out.reshape(out.size(0), -1)\n",
    "        out = self.drop_out(out)\n",
    "        out = self.fc1(out)\n",
    "        out = self.fc2(out)\n",
    "        return out"
   ]
  },
  {
   "cell_type": "code",
   "execution_count": 9,
   "metadata": {},
   "outputs": [
    {
     "data": {
      "text/plain": [
       "tensor([[-0.1580,  0.1272, -0.2902,  0.1756, -0.2005,  0.1718,  0.2523,  0.2201,\n",
       "          0.0744,  0.3826]], grad_fn=<AddmmBackward>)"
      ]
     },
     "execution_count": 9,
     "metadata": {},
     "output_type": "execute_result"
    }
   ],
   "source": [
    "def obs2tensor(obs):\n",
    "    x = torch.tensor(obs, dtype=torch.float64)\n",
    "    x = (x - x.mean()) / x.std()\n",
    "    x = x.unsqueeze(0)\n",
    "    x = x.permute(0,3,1,2)\n",
    "    x = x.type(torch.FloatTensor)\n",
    "    return x\n",
    "net = ValueNet()\n",
    "net(obs2tensor(obs))"
   ]
  },
  {
   "cell_type": "markdown",
   "metadata": {},
   "source": [
    "## define Q function"
   ]
  },
  {
   "cell_type": "code",
   "execution_count": null,
   "metadata": {
    "collapsed": true
   },
   "outputs": [],
   "source": []
  },
  {
   "cell_type": "markdown",
   "metadata": {},
   "source": [
    "## define game state Memory"
   ]
  },
  {
   "cell_type": "code",
   "execution_count": 10,
   "metadata": {
    "collapsed": true
   },
   "outputs": [],
   "source": [
    "MemRow = namedtuple('MemRow', ['action', 'obs', 'reward', 'done', 'next_obs'])\n",
    "\n"
   ]
  },
  {
   "cell_type": "code",
   "execution_count": 11,
   "metadata": {},
   "outputs": [
    {
     "ename": "NameError",
     "evalue": "name 'reward' is not defined",
     "output_type": "error",
     "traceback": [
      "\u001b[1;31m---------------------------------------------------------------------------\u001b[0m",
      "\u001b[1;31mNameError\u001b[0m                                 Traceback (most recent call last)",
      "\u001b[1;32m<ipython-input-11-adaacc4185f0>\u001b[0m in \u001b[0;36m<module>\u001b[1;34m()\u001b[0m\n\u001b[0;32m      1\u001b[0m \u001b[0mmemory\u001b[0m \u001b[1;33m=\u001b[0m \u001b[1;33m[\u001b[0m\u001b[1;33m]\u001b[0m\u001b[1;33m\u001b[0m\u001b[0m\n\u001b[0;32m      2\u001b[0m memory.append(MemRow(obs=obs,\n\u001b[1;32m----> 3\u001b[1;33m                      \u001b[0mreward\u001b[0m\u001b[1;33m=\u001b[0m\u001b[0mreward\u001b[0m\u001b[1;33m,\u001b[0m\u001b[1;33m\u001b[0m\u001b[0m\n\u001b[0m\u001b[0;32m      4\u001b[0m                      \u001b[0mdone\u001b[0m\u001b[1;33m=\u001b[0m\u001b[0mdone\u001b[0m\u001b[1;33m,\u001b[0m\u001b[1;33m\u001b[0m\u001b[0m\n\u001b[0;32m      5\u001b[0m                      \u001b[0mnext_obs\u001b[0m\u001b[1;33m=\u001b[0m\u001b[0mnext_obs\u001b[0m\u001b[1;33m,\u001b[0m\u001b[1;33m\u001b[0m\u001b[0m\n",
      "\u001b[1;31mNameError\u001b[0m: name 'reward' is not defined"
     ]
    }
   ],
   "source": [
    "memory = []\n",
    "memory.append(MemRow(obs=obs,\n",
    "                     reward=reward,\n",
    "                     done=done,\n",
    "                     next_obs=next_obs,\n",
    "                     action=action))\n"
   ]
  },
  {
   "cell_type": "markdown",
   "metadata": {},
   "source": [
    "## define QFunction"
   ]
  },
  {
   "cell_type": "code",
   "execution_count": 12,
   "metadata": {},
   "outputs": [],
   "source": [
    "def q_func(value_net, reward, next_obs, decay=0.9):\n",
    "    q = reward + decay * value_net(next_obs)\n",
    "    return q"
   ]
  },
  {
   "cell_type": "code",
   "execution_count": null,
   "metadata": {
    "collapsed": true
   },
   "outputs": [],
   "source": []
  },
  {
   "cell_type": "code",
   "execution_count": 14,
   "metadata": {},
   "outputs": [
    {
     "data": {
      "image/png": "[encoded data removed]",
      "text/plain": [
       "<matplotlib.figure.Figure at 0x1d47fbd3f98>"
      ]
     },
     "metadata": {},
     "output_type": "display_data"
    }
   ],
   "source": [
    "import gym\n",
    "from IPython import display\n",
    "import matplotlib\n",
    "import matplotlib.pyplot as plt\n",
    "import time\n",
    "%matplotlib inline\n",
    "\n",
    "GAMES = 2\n",
    "        \n",
    "memory = []\n",
    "\n",
    "env = gym.make('SpaceInvaders-v0')\n",
    "for game in range(GAMES):\n",
    "    game_score = 0\n",
    "    lives = 3\n",
    "    done = False\n",
    "    env.reset()\n",
    "    obs = resize(env.render(mode='rgb_array'))\n",
    "    img = plt.imshow(obs)\n",
    "    while not done:\n",
    "        #time.sleep(0.02*TIME_RES)\n",
    "        action = env.action_space.sample()\n",
    "        next_obs, score, info, done = sample_steps(action, env, TIME_RES)\n",
    "        game_score += score\n",
    "        reward = score/200\n",
    "        next_obs = resize(next_obs)\n",
    "        memory.append(MemRow(obs=obs,\n",
    "                         reward=reward,\n",
    "                         done=done,\n",
    "                         next_obs=next_obs,\n",
    "                         action=action))\n",
    "        if info['ale.lives'] < lives:\n",
    "            lives = info['ale.lives']\n",
    "            reward = -1\n",
    "\n",
    "        img.set_data(obs)\n",
    "        display.display(plt.gcf())\n",
    "        display.clear_output(wait=True)\n",
    "        obs = next_obs"
   ]
  },
  {
   "cell_type": "code",
   "execution_count": null,
   "metadata": {
    "collapsed": true
   },
   "outputs": [],
   "source": []
  }
 ],
 "metadata": {
  "kernelspec": {
   "display_name": "Python 3",
   "language": "python",
   "name": "python3"
  },
  "language_info": {
   "codemirror_mode": {
    "name": "ipython",
    "version": 3
   },
   "file_extension": ".py",
   "mimetype": "text/x-python",
   "name": "python",
   "nbconvert_exporter": "python",
   "pygments_lexer": "ipython3",
   "version": "3.6.3"
  }
 },
 "nbformat": 4,
 "nbformat_minor": 1
}
