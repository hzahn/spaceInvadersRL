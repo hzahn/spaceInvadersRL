{
 "cells": [
  {
   "cell_type": "code",
   "execution_count": 86,
   "metadata": {},
   "outputs": [],
   "source": [
    "import torch\n",
    "import numpy as np\n",
    "import gym\n",
    "import PIL\n",
    "from torch import nn\n",
    "from tqdm.notebook import tqdm"
   ]
  },
  {
   "cell_type": "code",
   "execution_count": 3,
   "metadata": {},
   "outputs": [
    {
     "name": "stdout",
     "output_type": "stream",
     "text": [
      "/Users/hagen.zahn/Projects/spaceInvadersRL\r\n"
     ]
    }
   ],
   "source": [
    "!pwd"
   ]
  },
  {
   "cell_type": "markdown",
   "metadata": {},
   "source": [
    "## find a propper resolution in space and time"
   ]
  },
  {
   "cell_type": "code",
   "execution_count": 4,
   "metadata": {},
   "outputs": [
    {
     "data": {
      "image/png": "[encoded data removed]",
      "text/plain": [
       "<Figure size 432x288 with 1 Axes>"
      ]
     },
     "metadata": {
      "needs_background": "light"
     },
     "output_type": "display_data"
    }
   ],
   "source": [
    "import gym\n",
    "from IPython import display\n",
    "import matplotlib\n",
    "import matplotlib.pyplot as plt\n",
    "import time\n",
    "%matplotlib inline\n",
    "\n",
    "SPACE_RES = (80,80)\n",
    "TIME_RES = 3\n",
    "\n",
    "def resize(obs):\n",
    "    return np.array(PIL.Image.fromarray(obs).resize(SPACE_RES)) # , PIL.Image.BILINEAR)\n",
    "\n",
    "def sample_steps(action, env, sample_size):\n",
    "    samples = []\n",
    "    info = []\n",
    "    done = False\n",
    "    reward = 0\n",
    "    for i in range(sample_size):\n",
    " \n",
    "        (_, r, d, i) = env.step(action)\n",
    "        samples.append(env.render(mode='rgb_array'))\n",
    "        done = done or d\n",
    "        reward += r\n",
    "        info = i\n",
    "    \n",
    "    obs = np.mean(samples, axis=0).astype('uint8')\n",
    "#    obs = samples[0]\n",
    "    return obs, reward, info, done\n",
    "        \n",
    "\n",
    "env = gym.make('SpaceInvaders-v0')\n",
    "env.reset()\n",
    "obs = resize(env.render(mode='rgb_array'))\n",
    "img = plt.imshow(obs)\n",
    "done = False\n",
    "for i in range(200):\n",
    "    time.sleep(0.01*TIME_RES)\n",
    "    action = env.action_space.sample()\n",
    "    obs, r, _, done = sample_steps(action, env, TIME_RES)\n",
    "    obs = resize(obs)\n",
    "    img.set_data(obs)\n",
    "    display.display(plt.gcf())\n",
    "    display.clear_output(wait=True)\n"
   ]
  },
  {
   "cell_type": "markdown",
   "metadata": {},
   "source": [
    "## define torch value function  cnn"
   ]
  },
  {
   "cell_type": "code",
   "execution_count": 153,
   "metadata": {},
   "outputs": [],
   "source": [
    "class ValueNet(nn.Module):\n",
    "    def __init__(self):\n",
    "        super(ValueNet, self).__init__()\n",
    "        self.feat1 = nn.Sequential(\n",
    "            nn.Conv2d(3, 32, kernel_size=3, stride=1, padding=2),\n",
    "            nn.ReLU(),\n",
    "            nn.MaxPool2d(kernel_size=2, stride=2))\n",
    "        self.feat2 = nn.Sequential(\n",
    "            nn.Conv2d(32, 64, kernel_size=5, stride=1, padding=2),\n",
    "            nn.ReLU(),\n",
    "            nn.MaxPool2d(kernel_size=2, stride=2))\n",
    "        self.drop_out = nn.Dropout()\n",
    "        self.classify = nn.Sequential(\n",
    "            nn.Linear(20 * 20 * 64, 100),\n",
    "            nn.ReLU(),\n",
    "            nn.Linear(100, 6)\n",
    "        )\n",
    "        self.out = nn.Tanh()\n",
    "        \n",
    "    def forward(self, x):\n",
    "        out = self.feat1(x)\n",
    "        out = self.feat2(out)\n",
    "        out = out.reshape(out.size(0), -1)\n",
    "        out = self.drop_out(out)\n",
    "        out = self.classify(out)\n",
    "        #out = self.out(out)\n",
    "        return out"
   ]
  },
  {
   "cell_type": "code",
   "execution_count": 154,
   "metadata": {},
   "outputs": [
    {
     "data": {
      "text/plain": [
       "torch.Size([1, 3, 80, 80])"
      ]
     },
     "execution_count": 154,
     "metadata": {},
     "output_type": "execute_result"
    }
   ],
   "source": [
    "def obs2tensor(obs):\n",
    "    x = torch.FloatTensor(obs)\n",
    "    x = (x - x.mean()) / x.std()\n",
    "    x = x.unsqueeze(0)\n",
    "    x = x.permute(0,3,1,2)\n",
    "    return x\n",
    "net = ValueNet()\n",
    "net(obs2tensor(obs))\n",
    "obs2tensor(obs).shape"
   ]
  },
  {
   "cell_type": "markdown",
   "metadata": {},
   "source": [
    "## define game state Memory"
   ]
  },
  {
   "cell_type": "code",
   "execution_count": 155,
   "metadata": {},
   "outputs": [],
   "source": [
    "MemRow = namedtuple('MemRow', ['action', 'obs', 'reward', 'done', 'next_obs'])\n",
    "\n"
   ]
  },
  {
   "cell_type": "code",
   "execution_count": 156,
   "metadata": {},
   "outputs": [],
   "source": [
    "def sample_batch(memory, batch_size):\n",
    "    samples = min(batch_size, len(memory))\n",
    "    return random.sample(memory, samples)"
   ]
  },
  {
   "cell_type": "markdown",
   "metadata": {},
   "source": [
    "## define QFunction"
   ]
  },
  {
   "cell_type": "code",
   "execution_count": 157,
   "metadata": {},
   "outputs": [],
   "source": [
    "def q_func(value_net, reward, next_obs, discount=0.9):\n",
    "    q = reward + discount * value_net(next_obs)\n",
    "    return q"
   ]
  },
  {
   "cell_type": "code",
   "execution_count": 158,
   "metadata": {},
   "outputs": [
    {
     "data": {
      "text/plain": [
       "tensor([[-0.0849,  1.0755, -0.0771, -0.0307, -0.1578, -0.0482]],\n",
       "       grad_fn=<CopySlices>)"
      ]
     },
     "execution_count": 158,
     "metadata": {},
     "output_type": "execute_result"
    }
   ],
   "source": [
    "def calculate_q_values(value_net, observation, next_observations, action, rewards, dones, discount=0.9):\n",
    "    actual_rewards = value_net(observation)\n",
    "    expected_rewards = value_net(next_observations)\n",
    "    best_reward = expected_rewards.max(axis=1)[0]\n",
    "    actual_rewards[:, action] = rewards + discount * best_reward * (1 - dones)\n",
    "    return actual_rewards\n",
    "\n",
    "calculate_q_values(net, obs2tensor(obs), obs2tensor(obs), torch.tensor([1]), torch.tensor([1]), torch.tensor([0]))"
   ]
  },
  {
   "cell_type": "markdown",
   "metadata": {},
   "source": [
    "### debug qfunction"
   ]
  },
  {
   "cell_type": "code",
   "execution_count": 159,
   "metadata": {},
   "outputs": [
    {
     "data": {
      "text/plain": [
       "tensor([[-0.1472,  1.0327, -0.0338, -0.0799, -0.2048,  0.0085]],\n",
       "       grad_fn=<CopySlices>)"
      ]
     },
     "execution_count": 159,
     "metadata": {},
     "output_type": "execute_result"
    }
   ],
   "source": [
    "value_net, observation, next_observations, action, rewards, dones, discount= (net, obs2tensor(obs), obs2tensor(obs), torch.tensor([1]), torch.tensor([1]), torch.tensor([0]), 0.9)\n",
    "actual_rewards = value_net(observation)\n",
    "expected_rewards = value_net(next_observations)\n",
    "best_reward = expected_rewards.max(axis=1)[0]\n",
    "actual_rewards[:, action] = rewards + discount * best_reward * (1 - dones)\n",
    "actual_rewards"
   ]
  },
  {
   "cell_type": "code",
   "execution_count": null,
   "metadata": {},
   "outputs": [],
   "source": []
  },
  {
   "cell_type": "code",
   "execution_count": 160,
   "metadata": {},
   "outputs": [],
   "source": [
    "import torch.optim as optim\n",
    "import torch.nn as nn\n",
    "net = ValueNet()\n",
    "criterion = nn.MSELoss()\n",
    "optimizer = optim.SGD(net.parameters(), lr=0.001, momentum=0.9)"
   ]
  },
  {
   "cell_type": "markdown",
   "metadata": {},
   "source": [
    "## train value net"
   ]
  },
  {
   "cell_type": "code",
   "execution_count": 161,
   "metadata": {},
   "outputs": [
    {
     "data": {
      "text/plain": [
       "0.2835460901260376"
      ]
     },
     "execution_count": 161,
     "metadata": {},
     "output_type": "execute_result"
    }
   ],
   "source": [
    "def train_model(model, memory_batch):\n",
    "    observations = torch.cat([obs2tensor(m.obs) for m in memory_batch], dim=0)\n",
    "    next_observations = torch.cat([obs2tensor(m.next_obs) for m in memory_batch], dim=0)\n",
    "    rewards = torch.tensor([m.reward for m in memory_batch])\n",
    "    dones = torch.tensor([1 * m.done for m in memory_batch])\n",
    "    batch_size = len(memory_batch)\n",
    "    actions = torch.tensor([m.action for m in memory_batch])\n",
    "\n",
    "    q_values = calculate_q_values(model, observations, next_observations, actions, rewards, dones)\n",
    "\n",
    "    optimizer.zero_grad()\n",
    "    output = model(observations)\n",
    "    loss = criterion(output, q_values)\n",
    "    loss.backward()\n",
    "    optimizer.step()\n",
    "    train_loss = loss.item()\n",
    "    return train_loss\n",
    "torch.autograd.set_detect_anomaly(True)\n",
    "#net = ValueNet()\n",
    "memory = [MemRow(obs=obs,\n",
    "                 reward=reward,\n",
    "                 done=done,\n",
    "                 next_obs=next_obs,\n",
    "                 action=action)]\n",
    "train_model(net, sample_batch(memory, 1))"
   ]
  },
  {
   "cell_type": "markdown",
   "metadata": {
    "jupyter": {
     "outputs_hidden": true
    }
   },
   "source": [
    "## policy function"
   ]
  },
  {
   "cell_type": "code",
   "execution_count": 162,
   "metadata": {},
   "outputs": [
    {
     "data": {
      "text/plain": [
       "5"
      ]
     },
     "execution_count": 162,
     "metadata": {},
     "output_type": "execute_result"
    }
   ],
   "source": [
    "def policy(value_net, obs):\n",
    "    return value_net(obs).argmax().item()\n",
    "\n",
    "policy(net, obs2tensor(obs))"
   ]
  },
  {
   "cell_type": "code",
   "execution_count": 163,
   "metadata": {},
   "outputs": [],
   "source": [
    "from io import BytesIO\n",
    "import matplotlib.pyplot as plt\n",
    "from IPython.display import display, Image, HTML\n",
    "import base64\n",
    "\n",
    "def plotdesc(fig, text, iwidth=None):\n",
    "    bio = BytesIO()\n",
    "    # save fig as png to bytes IO instead to disk\n",
    "    fig.savefig(bio, format='png')\n",
    "    plt.close(fig)\n",
    "    iwidth = ' width={0} '.format(iwidth) if iwidth is not None else ''\n",
    "    img_tag = \"<img src='data:image/png;base64,\" + base64.b64encode(bio.getvalue()) + \"'{0}/>\".format(iwidth)\n",
    "    datatable = '<table><tr><td>{0}</td><td>{1}</td></tr></table>'.format(img_tag, text)\n",
    "    display(HTML(datatable))"
   ]
  },
  {
   "cell_type": "markdown",
   "metadata": {},
   "source": [
    "## use cuda"
   ]
  },
  {
   "cell_type": "code",
   "execution_count": null,
   "metadata": {},
   "outputs": [],
   "source": [
    "torch.set_default_tensor_type('torch.cuda.FloatTensor')\n",
    "net = ValueNet()\n",
    "net.cuda()"
   ]
  },
  {
   "cell_type": "code",
   "execution_count": null,
   "metadata": {},
   "outputs": [],
   "source": []
  },
  {
   "cell_type": "markdown",
   "metadata": {},
   "source": [
    "## Run Training"
   ]
  },
  {
   "cell_type": "code",
   "execution_count": 166,
   "metadata": {},
   "outputs": [
    {
     "name": "stdout",
     "output_type": "stream",
     "text": [
      "0.14767387509346008\n"
     ]
    },
    {
     "data": {
      "image/png": "[encoded data removed]",
      "text/plain": [
       "<Figure size 432x288 with 1 Axes>"
      ]
     },
     "metadata": {
      "needs_background": "light"
     },
     "output_type": "display_data"
    }
   ],
   "source": [
    "import gym\n",
    "from IPython import display\n",
    "import matplotlib\n",
    "import matplotlib.pyplot as plt\n",
    "import time\n",
    "import random\n",
    "%matplotlib inline\n",
    "\n",
    "GAMES = 2\n",
    "        \n",
    "memory = []\n",
    "\n",
    "env = gym.make('SpaceInvaders-v0')\n",
    "for game in range(GAMES):\n",
    "    game_score = 0\n",
    "    lives = 3\n",
    "    done = False\n",
    "    env.reset()\n",
    "    obs = resize(env.render(mode='rgb_array'))\n",
    "    img = plt.imshow(obs)\n",
    "    while not done:\n",
    "        #time.sleep(0.02*TIME_RES)\n",
    "        if random.random() > 0.9:\n",
    "            action = env.action_space.sample()\n",
    "        else:\n",
    "            action = policy(net, obs2tensor(obs))\n",
    "        next_obs, score, info, done = sample_steps(action, env, TIME_RES)\n",
    "        game_score += score\n",
    "        reward = score/200\n",
    "        next_obs = resize(next_obs)\n",
    "        \n",
    "        memory.append(MemRow(obs=obs,\n",
    "                         reward=reward,\n",
    "                         done=done,\n",
    "                         next_obs=next_obs,\n",
    "                         action=action))\n",
    "        if info['ale.lives'] < lives:\n",
    "            lives = info['ale.lives']\n",
    "            reward = -1\n",
    "\n",
    "        img.set_data(obs)\n",
    "        display.display(plt.gcf())\n",
    "        print(loss)\n",
    "        display.clear_output(wait=True)\n",
    "        obs = next_obs\n",
    "        loss = train_model(net, sample_batch(memory, 10))\n",
    "print(loss)"
   ]
  },
  {
   "cell_type": "code",
   "execution_count": null,
   "metadata": {
    "collapsed": true,
    "jupyter": {
     "outputs_hidden": true
    }
   },
   "outputs": [],
   "source": []
  }
 ],
 "metadata": {
  "kernelspec": {
   "display_name": "Python 3",
   "language": "python",
   "name": "python3"
  },
  "language_info": {
   "codemirror_mode": {
    "name": "ipython",
    "version": 3
   },
   "file_extension": ".py",
   "mimetype": "text/x-python",
   "name": "python",
   "nbconvert_exporter": "python",
   "pygments_lexer": "ipython3",
   "version": "3.7.2"
  }
 },
 "nbformat": 4,
 "nbformat_minor": 4
}
